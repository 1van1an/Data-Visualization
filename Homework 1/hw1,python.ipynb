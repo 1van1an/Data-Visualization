{
 "cells": [
  {
   "metadata": {},
   "cell_type": "markdown",
   "source": "Part 1: Data Cleaning and Exploration ",
   "id": "c0ffd4e7ca7c5c38"
  },
  {
   "metadata": {},
   "cell_type": "markdown",
   "source": "Load the dataset. Check the first 5 rows.",
   "id": "6795ff5edef10f51"
  },
  {
   "metadata": {
    "ExecuteTime": {
     "end_time": "2025-02-05T19:13:47.210477Z",
     "start_time": "2025-02-05T19:13:47.207696Z"
    }
   },
   "cell_type": "code",
   "source": "import pandas as pd",
   "id": "4e9691b82f213be1",
   "outputs": [],
   "execution_count": 22
  },
  {
   "cell_type": "code",
   "id": "initial_id",
   "metadata": {
    "collapsed": true,
    "ExecuteTime": {
     "end_time": "2025-02-05T19:01:32.957208Z",
     "start_time": "2025-02-05T19:01:32.839912Z"
    }
   },
   "source": [
    "df = pd.read_csv(\"crime_data.csv\")\n",
    "print(df.head(5))"
   ],
   "outputs": [
    {
     "name": "stdout",
     "output_type": "stream",
     "text": [
      "       DR_NO               Date Rptd                DATE OCC  TIME OCC  AREA  \\\n",
      "0  241711715  08/01/2024 12:00:00 AM  08/01/2024 12:00:00 AM      1319    17   \n",
      "1  231014031  09/21/2023 12:00:00 AM  09/15/2023 12:00:00 AM      1930    10   \n",
      "2  231010808  06/27/2023 12:00:00 AM  06/26/2023 12:00:00 AM      1230    10   \n",
      "3  211410441  04/25/2021 12:00:00 AM  04/25/2021 12:00:00 AM      2330    14   \n",
      "4  211114569  10/25/2021 12:00:00 AM  10/25/2021 12:00:00 AM      1455    11   \n",
      "\n",
      "     AREA NAME  Rpt Dist No  Part 1-2  Crm Cd  \\\n",
      "0   Devonshire         1791         1     440   \n",
      "1  West Valley         1011         2     354   \n",
      "2  West Valley         1015         2     354   \n",
      "3      Pacific         1488         2     626   \n",
      "4    Northeast         1123         1     210   \n",
      "\n",
      "                          Crm Cd Desc  ... Status  Status Desc Crm Cd 1  \\\n",
      "0  THEFT PLAIN - PETTY ($950 & UNDER)  ...     IC  Invest Cont    440.0   \n",
      "1                   THEFT OF IDENTITY  ...     IC  Invest Cont    354.0   \n",
      "2                   THEFT OF IDENTITY  ...     IC  Invest Cont    354.0   \n",
      "3   INTIMATE PARTNER - SIMPLE ASSAULT  ...     IC  Invest Cont    626.0   \n",
      "4                             ROBBERY  ...     IC  Invest Cont    210.0   \n",
      "\n",
      "  Crm Cd 2  Crm Cd 3 Crm Cd 4                                  LOCATION  \\\n",
      "0      NaN       NaN      NaN   8300    KELVIN                       AV   \n",
      "1      NaN       NaN      NaN  18900    CANTLAY                      ST   \n",
      "2      NaN       NaN      NaN   7300    ENFIELD                      AV   \n",
      "3      NaN       NaN      NaN   5800 W  CENTURY                      BL   \n",
      "4      NaN       NaN      NaN   2900    LOS FELIZ                    BL   \n",
      "\n",
      "  Cross Street      LAT       LON  \n",
      "0          NaN  34.2200 -118.5863  \n",
      "1          NaN  34.2023 -118.5458  \n",
      "2          NaN  34.2033 -118.5241  \n",
      "3          NaN  33.9456 -118.3835  \n",
      "4          NaN   0.0000    0.0000  \n",
      "\n",
      "[5 rows x 28 columns]\n"
     ]
    }
   ],
   "execution_count": 3
  },
  {
   "metadata": {},
   "cell_type": "markdown",
   "source": [
    "Identify columns with missing values and their respective counts. Drop columns where more than\n",
    "50% of the data is missing (store this version as a new dataset)."
   ],
   "id": "129013f5a4b4ccfc"
  },
  {
   "metadata": {
    "ExecuteTime": {
     "end_time": "2025-02-05T19:02:53.192966Z",
     "start_time": "2025-02-05T19:02:53.143865Z"
    }
   },
   "cell_type": "code",
   "source": [
    "missing_counts = df.isnull().sum()\n",
    "print(missing_counts[missing_counts > 0])\n",
    "\n",
    "threshold = len(df) * 0.5\n",
    "new_df = df.dropna(axis=1, thresh=threshold)\n",
    "\n",
    "print(new_df.info())"
   ],
   "id": "be6947e1411a7477",
   "outputs": [
    {
     "name": "stdout",
     "output_type": "stream",
     "text": [
      "Mocodes            7498\n",
      "Vict Sex           7163\n",
      "Vict Descent       7165\n",
      "Premis Desc          29\n",
      "Weapon Used Cd    33654\n",
      "Weapon Desc       33654\n",
      "Crm Cd 1              2\n",
      "Crm Cd 2          46448\n",
      "Crm Cd 3          49885\n",
      "Crm Cd 4          49995\n",
      "Cross Street      42258\n",
      "dtype: int64\n",
      "<class 'pandas.core.frame.DataFrame'>\n",
      "RangeIndex: 50000 entries, 0 to 49999\n",
      "Data columns (total 22 columns):\n",
      " #   Column        Non-Null Count  Dtype  \n",
      "---  ------        --------------  -----  \n",
      " 0   DR_NO         50000 non-null  int64  \n",
      " 1   Date Rptd     50000 non-null  object \n",
      " 2   DATE OCC      50000 non-null  object \n",
      " 3   TIME OCC      50000 non-null  int64  \n",
      " 4   AREA          50000 non-null  int64  \n",
      " 5   AREA NAME     50000 non-null  object \n",
      " 6   Rpt Dist No   50000 non-null  int64  \n",
      " 7   Part 1-2      50000 non-null  int64  \n",
      " 8   Crm Cd        50000 non-null  int64  \n",
      " 9   Crm Cd Desc   50000 non-null  object \n",
      " 10  Mocodes       42502 non-null  object \n",
      " 11  Vict Age      50000 non-null  int64  \n",
      " 12  Vict Sex      42837 non-null  object \n",
      " 13  Vict Descent  42835 non-null  object \n",
      " 14  Premis Cd     50000 non-null  float64\n",
      " 15  Premis Desc   49971 non-null  object \n",
      " 16  Status        50000 non-null  object \n",
      " 17  Status Desc   50000 non-null  object \n",
      " 18  Crm Cd 1      49998 non-null  float64\n",
      " 19  LOCATION      50000 non-null  object \n",
      " 20  LAT           50000 non-null  float64\n",
      " 21  LON           50000 non-null  float64\n",
      "dtypes: float64(4), int64(7), object(11)\n",
      "memory usage: 8.4+ MB\n",
      "None\n"
     ]
    }
   ],
   "execution_count": 4
  },
  {
   "metadata": {},
   "cell_type": "markdown",
   "source": [
    "Convert the DATE OCC column to a datetime format. Extract the year, month, and day into separate\n",
    "columns. Create a new column for the hour using the TIME OCC column."
   ],
   "id": "6569f9e88980612d"
  },
  {
   "metadata": {
    "ExecuteTime": {
     "end_time": "2025-02-05T19:07:59.917267Z",
     "start_time": "2025-02-05T19:07:59.826641Z"
    }
   },
   "cell_type": "code",
   "source": [
    "new_df['DATE OCC'] = pd.to_datetime(df['DATE OCC'], format=\"%m/%d/%Y %I:%M:%S %p\")\n",
    "\n",
    "new_df['Year'] = new_df['DATE OCC'].dt.year\n",
    "new_df['Month'] = new_df['DATE OCC'].dt.month\n",
    "new_df['Day'] = new_df['DATE OCC'].dt.day\n",
    "\n",
    "new_df['Hour'] = new_df['TIME OCC'].astype(str).str.zfill(4).str[:2].astype(int)\n",
    "\n",
    "print(new_df.head())"
   ],
   "id": "725106f358b0f78c",
   "outputs": [
    {
     "name": "stdout",
     "output_type": "stream",
     "text": [
      "       DR_NO               Date Rptd   DATE OCC  TIME OCC  AREA    AREA NAME  \\\n",
      "0  241711715  08/01/2024 12:00:00 AM 2024-08-01      1319    17   Devonshire   \n",
      "1  231014031  09/21/2023 12:00:00 AM 2023-09-15      1930    10  West Valley   \n",
      "2  231010808  06/27/2023 12:00:00 AM 2023-06-26      1230    10  West Valley   \n",
      "3  211410441  04/25/2021 12:00:00 AM 2021-04-25      2330    14      Pacific   \n",
      "4  211114569  10/25/2021 12:00:00 AM 2021-10-25      1455    11    Northeast   \n",
      "\n",
      "   Rpt Dist No  Part 1-2  Crm Cd                         Crm Cd Desc  ...  \\\n",
      "0         1791         1     440  THEFT PLAIN - PETTY ($950 & UNDER)  ...   \n",
      "1         1011         2     354                   THEFT OF IDENTITY  ...   \n",
      "2         1015         2     354                   THEFT OF IDENTITY  ...   \n",
      "3         1488         2     626   INTIMATE PARTNER - SIMPLE ASSAULT  ...   \n",
      "4         1123         1     210                             ROBBERY  ...   \n",
      "\n",
      "  Status  Status Desc Crm Cd 1                                  LOCATION  \\\n",
      "0     IC  Invest Cont    440.0   8300    KELVIN                       AV   \n",
      "1     IC  Invest Cont    354.0  18900    CANTLAY                      ST   \n",
      "2     IC  Invest Cont    354.0   7300    ENFIELD                      AV   \n",
      "3     IC  Invest Cont    626.0   5800 W  CENTURY                      BL   \n",
      "4     IC  Invest Cont    210.0   2900    LOS FELIZ                    BL   \n",
      "\n",
      "       LAT       LON  Year Month  Day Hour  \n",
      "0  34.2200 -118.5863  2024     8    1   13  \n",
      "1  34.2023 -118.5458  2023     9   15   19  \n",
      "2  34.2033 -118.5241  2023     6   26   12  \n",
      "3  33.9456 -118.3835  2021     4   25   23  \n",
      "4   0.0000    0.0000  2021    10   25   14  \n",
      "\n",
      "[5 rows x 26 columns]\n"
     ]
    },
    {
     "name": "stderr",
     "output_type": "stream",
     "text": [
      "/var/folders/_1/__pt4n2j34s904855v8cbgkr0000gn/T/ipykernel_10320/2759359030.py:1: SettingWithCopyWarning: \n",
      "A value is trying to be set on a copy of a slice from a DataFrame.\n",
      "Try using .loc[row_indexer,col_indexer] = value instead\n",
      "\n",
      "See the caveats in the documentation: https://pandas.pydata.org/pandas-docs/stable/user_guide/indexing.html#returning-a-view-versus-a-copy\n",
      "  new_df['DATE OCC'] = pd.to_datetime(df['DATE OCC'], format=\"%m/%d/%Y %I:%M:%S %p\", errors='coerce')\n",
      "/var/folders/_1/__pt4n2j34s904855v8cbgkr0000gn/T/ipykernel_10320/2759359030.py:3: SettingWithCopyWarning: \n",
      "A value is trying to be set on a copy of a slice from a DataFrame.\n",
      "Try using .loc[row_indexer,col_indexer] = value instead\n",
      "\n",
      "See the caveats in the documentation: https://pandas.pydata.org/pandas-docs/stable/user_guide/indexing.html#returning-a-view-versus-a-copy\n",
      "  new_df['Year'] = new_df['DATE OCC'].dt.year\n",
      "/var/folders/_1/__pt4n2j34s904855v8cbgkr0000gn/T/ipykernel_10320/2759359030.py:4: SettingWithCopyWarning: \n",
      "A value is trying to be set on a copy of a slice from a DataFrame.\n",
      "Try using .loc[row_indexer,col_indexer] = value instead\n",
      "\n",
      "See the caveats in the documentation: https://pandas.pydata.org/pandas-docs/stable/user_guide/indexing.html#returning-a-view-versus-a-copy\n",
      "  new_df['Month'] = new_df['DATE OCC'].dt.month\n",
      "/var/folders/_1/__pt4n2j34s904855v8cbgkr0000gn/T/ipykernel_10320/2759359030.py:5: SettingWithCopyWarning: \n",
      "A value is trying to be set on a copy of a slice from a DataFrame.\n",
      "Try using .loc[row_indexer,col_indexer] = value instead\n",
      "\n",
      "See the caveats in the documentation: https://pandas.pydata.org/pandas-docs/stable/user_guide/indexing.html#returning-a-view-versus-a-copy\n",
      "  new_df['Day'] = new_df['DATE OCC'].dt.day\n",
      "/var/folders/_1/__pt4n2j34s904855v8cbgkr0000gn/T/ipykernel_10320/2759359030.py:7: SettingWithCopyWarning: \n",
      "A value is trying to be set on a copy of a slice from a DataFrame.\n",
      "Try using .loc[row_indexer,col_indexer] = value instead\n",
      "\n",
      "See the caveats in the documentation: https://pandas.pydata.org/pandas-docs/stable/user_guide/indexing.html#returning-a-view-versus-a-copy\n",
      "  new_df['Hour'] = new_df['TIME OCC'].astype(str).str.zfill(4).str[:2].astype(int)\n"
     ]
    }
   ],
   "execution_count": 14
  },
  {
   "metadata": {},
   "cell_type": "markdown",
   "source": [
    "Filter the dataset for crimes that occurred in 2023. Further filter crimes with the description\n",
    "BURGLARY in the Crm Cd Desc column"
   ],
   "id": "1a14da6985688342"
  },
  {
   "metadata": {},
   "cell_type": "code",
   "outputs": [],
   "execution_count": null,
   "source": [
    "df_2023 = new_df[new_df['DATE OCC'].dt.year == 2023]\n",
    "\n",
    "burglary_2023 = df_2023[df_2023['Crm Cd Desc'] == 'BURGLARY']\n",
    "\n",
    "print(burglary_2023.head())"
   ],
   "id": "7aabf83aa58a3e43"
  },
  {
   "metadata": {},
   "cell_type": "markdown",
   "source": [
    "Group the data by AREA NAME and calculate the total number of crimes and the average victim age.\n",
    "Sort the results by total crimes in descending order."
   ],
   "id": "ee1e0c1463350be7"
  },
  {
   "metadata": {},
   "cell_type": "code",
   "outputs": [],
   "execution_count": null,
   "source": [
    "area_stats = new_df.groupby('AREA NAME').agg(\n",
    "    Total_Crimes=('DR_NO', 'count'),\n",
    "    Avg_Victim_Age=('Vict Age', 'mean')\n",
    ").reset_index()\n",
    "\n",
    "area_stats = area_stats.sort_values(by='Total_Crimes', ascending=False)\n",
    "\n",
    "print(area_stats.head())"
   ],
   "id": "c19aa6b82dd122e7"
  },
  {
   "metadata": {},
   "cell_type": "markdown",
   "source": "Part 2: Further Exploration",
   "id": "62f57983cba7e5a2"
  },
  {
   "metadata": {},
   "cell_type": "markdown",
   "source": "Find the top 3 most frequent Crm Cd Desc values.",
   "id": "97504dc918e5455c"
  },
  {
   "metadata": {
    "ExecuteTime": {
     "end_time": "2025-02-05T19:10:35.340534Z",
     "start_time": "2025-02-05T19:10:35.333616Z"
    }
   },
   "cell_type": "code",
   "source": [
    "top_crimes = new_df['Crm Cd Desc'].value_counts().nlargest(3)\n",
    "print(top_crimes)"
   ],
   "id": "8e5360ae72589854",
   "outputs": [
    {
     "name": "stdout",
     "output_type": "stream",
     "text": [
      "Crm Cd Desc\n",
      "VEHICLE - STOLEN            5733\n",
      "BATTERY - SIMPLE ASSAULT    3715\n",
      "THEFT OF IDENTITY           3169\n",
      "Name: count, dtype: int64\n"
     ]
    }
   ],
   "execution_count": 18
  },
  {
   "metadata": {},
   "cell_type": "markdown",
   "source": "Group the data by Hour and count the number of crimes.",
   "id": "5abe52da34dc5239"
  },
  {
   "metadata": {
    "ExecuteTime": {
     "end_time": "2025-02-05T19:11:42.185439Z",
     "start_time": "2025-02-05T19:11:42.180353Z"
    }
   },
   "cell_type": "code",
   "source": [
    "hourly_crimes = new_df.groupby('Hour')['DR_NO'].count().reset_index()\n",
    "\n",
    "hourly_crimes.columns = ['Hour', 'Total_Crimes']\n",
    "\n",
    "hourly_crimes = hourly_crimes.sort_values(by='Hour')\n",
    "\n",
    "print(hourly_crimes.head())"
   ],
   "id": "81d1b58a0f3b1328",
   "outputs": [
    {
     "name": "stdout",
     "output_type": "stream",
     "text": [
      "   Hour  Total_Crimes\n",
      "0     0          2025\n",
      "1     1          1490\n",
      "2     2          1241\n",
      "3     3          1063\n",
      "4     4           975\n"
     ]
    }
   ],
   "execution_count": 20
  },
  {
   "metadata": {},
   "cell_type": "markdown",
   "source": "Group the data by Vict Sex and calculate: Total crimes, Average victim age.",
   "id": "ac7052b58dd4d664"
  },
  {
   "metadata": {},
   "cell_type": "code",
   "outputs": [],
   "execution_count": null,
   "source": [
    "victim_stats = new_df.groupby('Vict Sex').agg(\n",
    "    Total_Crimes=('DR_NO', 'count'),\n",
    "    Avg_Victim_Age=('Vict Age', 'mean')\n",
    ").reset_index()\n",
    "\n",
    "print(victim_stats)"
   ],
   "id": "e69e5eda83fc7e14"
  },
  {
   "metadata": {},
   "cell_type": "markdown",
   "source": [
    "Part 4: Advanced Analysis\n",
    "Create a new column, Severity Score, based on the following rules:\n",
    "• Assign 5 points if a weapon was used (Weapon Used Cd is not null).\n",
    "• Assign 3 points for crimes under BURGLARY.\n",
    "• Assign 1 point for all other crimes.\n",
    "• Group by AREA NAME and find the total severity score for each area."
   ],
   "id": "3a692dc631d5720c"
  },
  {
   "metadata": {
    "ExecuteTime": {
     "end_time": "2025-02-05T19:18:18.753418Z",
     "start_time": "2025-02-05T19:18:18.615701Z"
    }
   },
   "cell_type": "code",
   "source": [
    "def calculate_severity(row):\n",
    "    if pd.notna(row['Weapon Used Cd']):  # Weapon used\n",
    "        return 5\n",
    "    elif row['Crm Cd Desc'] == 'BURGLARY':  # Burglary\n",
    "        return 3\n",
    "    else:  # All other crimes\n",
    "        return 1\n",
    "\n",
    "# Apply the function to create the Severity Score column\n",
    "new_df['Severity Score'] = df.apply(calculate_severity, axis=1)\n",
    "\n",
    "# Group by AREA NAME and sum severity scores\n",
    "area_severity = new_df.groupby('AREA NAME')['Severity Score'].sum().reset_index()\n",
    "\n",
    "# Sort by Severity Score in descending order\n",
    "area_severity = area_severity.sort_values(by='Severity Score', ascending=False)\n",
    "\n",
    "print(area_severity.head())"
   ],
   "id": "40a972287bcfa7a1",
   "outputs": [
    {
     "name": "stdout",
     "output_type": "stream",
     "text": [
      "      AREA NAME  Severity Score\n",
      "0   77th Street            9247\n",
      "1       Central            8541\n",
      "14    Southeast            7129\n",
      "15    Southwest            7005\n",
      "9        Newton            6773\n"
     ]
    },
    {
     "name": "stderr",
     "output_type": "stream",
     "text": [
      "/var/folders/_1/__pt4n2j34s904855v8cbgkr0000gn/T/ipykernel_10320/895384383.py:10: SettingWithCopyWarning: \n",
      "A value is trying to be set on a copy of a slice from a DataFrame.\n",
      "Try using .loc[row_indexer,col_indexer] = value instead\n",
      "\n",
      "See the caveats in the documentation: https://pandas.pydata.org/pandas-docs/stable/user_guide/indexing.html#returning-a-view-versus-a-copy\n",
      "  new_df['Severity Score'] = df.apply(calculate_severity, axis=1)\n"
     ]
    }
   ],
   "execution_count": 25
  },
  {
   "metadata": {},
   "cell_type": "markdown",
   "source": [
    "Bonus Part\n",
    "Use the LAT and LON columns to identify crimes that occurred within a specific latitude-longitude bounding\n",
    "box (e.g., downtown area)."
   ],
   "id": "8cb33912dec47710"
  },
  {
   "metadata": {
    "ExecuteTime": {
     "end_time": "2025-02-05T19:19:41.239589Z",
     "start_time": "2025-02-05T19:19:41.228656Z"
    }
   },
   "cell_type": "code",
   "source": [
    "# Define the latitude and longitude bounding box\n",
    "lat_min = 34.0\n",
    "lat_max = 34.1\n",
    "lon_min = -118.3\n",
    "lon_max = -118.2\n",
    "\n",
    "# Filter the dataset based on the LAT and LON columns\n",
    "crimes_bounding_box = new_df[(new_df['LAT'] >= lat_min) & (new_df['LAT'] <= lat_max) & \n",
    "                         (new_df['LON'] >= lon_min) & (new_df['LON'] <= lon_max)]\n",
    "\n",
    "print(crimes_bounding_box.head())"
   ],
   "id": "acd15cc873c514bd",
   "outputs": [
    {
     "name": "stdout",
     "output_type": "stream",
     "text": [
      "        DR_NO               Date Rptd   DATE OCC  TIME OCC  AREA   AREA NAME  \\\n",
      "6   200117643  09/08/2020 12:00:00 AM 2020-09-08      1430     1     Central   \n",
      "10  200213278  08/02/2020 12:00:00 AM 2020-08-01       700     2     Rampart   \n",
      "12  202013368  08/12/2020 12:00:00 AM 2020-08-10         1    20     Olympic   \n",
      "14  220210657  05/09/2022 12:00:00 AM 2021-06-01       800     2     Rampart   \n",
      "15  220407368  04/08/2022 12:00:00 AM 2022-04-08      1710     4  Hollenbeck   \n",
      "\n",
      "    Rpt Dist No  Part 1-2  Crm Cd  \\\n",
      "6           185         2     624   \n",
      "10          249         1     420   \n",
      "12         2049         2     649   \n",
      "14          236         1     341   \n",
      "15          499         1     761   \n",
      "\n",
      "                                          Crm Cd Desc  ...  Status Desc  \\\n",
      "6                            BATTERY - SIMPLE ASSAULT  ...  Invest Cont   \n",
      "10    THEFT FROM MOTOR VEHICLE - PETTY ($950 & UNDER)  ...  Invest Cont   \n",
      "12                   DOCUMENT FORGERY / STOLEN FELONY  ...  Invest Cont   \n",
      "14  THEFT-GRAND ($950.01 & OVER)EXCPT,GUNS,FOWL,LI...  ...  Invest Cont   \n",
      "15                                    BRANDISH WEAPON  ...  Invest Cont   \n",
      "\n",
      "    Crm Cd 1                                 LOCATION      LAT       LON  \\\n",
      "6      624.0  1000 S  SANTEE                       ST  34.0378 -118.2561   \n",
      "10     420.0  1100    WILSHIRE                     BL  34.0523 -118.2633   \n",
      "12     649.0          8TH                          ST  34.0577 -118.2842   \n",
      "14     341.0   300 N  BURLINGTON                   AV  34.0678 -118.2654   \n",
      "15     740.0  3600 E  OLYMPIC                      BL  34.0188 -118.2011   \n",
      "\n",
      "    Year Month Day  Hour Severity Score  \n",
      "6   2020     9   8    14              5  \n",
      "10  2020     8   1     7              1  \n",
      "12  2020     8  10     0              1  \n",
      "14  2021     6   1     8              1  \n",
      "15  2022     4   8    17              5  \n",
      "\n",
      "[5 rows x 27 columns]\n"
     ]
    }
   ],
   "execution_count": 26
  }
 ],
 "metadata": {
  "kernelspec": {
   "display_name": "Python 3",
   "language": "python",
   "name": "python3"
  },
  "language_info": {
   "codemirror_mode": {
    "name": "ipython",
    "version": 2
   },
   "file_extension": ".py",
   "mimetype": "text/x-python",
   "name": "python",
   "nbconvert_exporter": "python",
   "pygments_lexer": "ipython2",
   "version": "2.7.6"
  }
 },
 "nbformat": 4,
 "nbformat_minor": 5
}
